{
 "cells": [
  {
   "cell_type": "markdown",
   "metadata": {},
   "source": [
    "### Libraries"
   ]
  },
  {
   "cell_type": "code",
   "execution_count": 63,
   "metadata": {
    "scrolled": true
   },
   "outputs": [],
   "source": [
    "import os\n",
    "import sys\n",
    "import numpy as np\n",
    "import pandas as pd\n",
    "from sklearn.model_selection import train_test_split,  cross_val_score, GridSearchCV\n",
    "from sklearn.feature_extraction.text import TfidfVectorizer, CountVectorizer\n",
    "from sklearn.svm import LinearSVC, SVC\n",
    "from sklearn.naive_bayes import MultinomialNB\n",
    "from sklearn.linear_model import LogisticRegression\n",
    "from sklearn.neighbors import KNeighborsClassifier\n",
    "from sklearn.ensemble import RandomForestClassifier, GradientBoostingClassifier\n",
    "from sklearn.neural_network import MLPClassifier\n",
    "from sklearn.pipeline import FeatureUnion\n",
    "from sklearn.preprocessing import StandardScaler\n",
    "from sklearn.kernel_approximation import AdditiveChi2Sampler\n",
    "from sklearn.metrics import classification_report, confusion_matrix\n",
    "import re, string, unicodedata\n",
    "from scipy.sparse import hstack\n",
    "from string import digits \n",
    "import nltk\n",
    "from nltk import word_tokenize, sent_tokenize, pos_tag\n",
    "from gensim.models import Word2Vec, Doc2Vec\n",
    "from gensim.models.fasttext import FastText"
   ]
  },
  {
   "cell_type": "markdown",
   "metadata": {},
   "source": [
    "### Loading Data\n",
    "\n",
    "Enumerate creates labels for Y and saves them in list \"authors\".\n",
    "Articles texts are saved in articles list as separate strings."
   ]
  },
  {
   "cell_type": "code",
   "execution_count": 2,
   "metadata": {},
   "outputs": [],
   "source": [
    "#path of the current notebook('data' folder should be in the same folder as this notebook)\n",
    "notebook_path = os.path.abspath(\"Εργασία 1(authorship attribution).ipynb\")\n",
    "\n",
    "data_folder = os.path.join(os.path.dirname(notebook_path), \"data\")\n",
    "\n",
    "articles = []\n",
    "authors  = []\n",
    "\n",
    "subfolders = [subfolder for subfolder in os.listdir(data_folder) \n",
    "              if os.path.isdir(os.path.join(data_folder, subfolder))]\n",
    "\n",
    "#for-loop to read every  txt in every subfolder\n",
    "#enumerate creates the labels for Y, saves them in list \"authors\"\n",
    "for author_number, subfolder in enumerate(subfolders):\n",
    "    full_subfolder_path = os.path.join(data_folder, subfolder)\n",
    "    for article_name in os.listdir(full_subfolder_path):\n",
    "        with open(os.path.join(full_subfolder_path, article_name)) as f:\n",
    "            articles.append(f.read().replace('\\n', ' '))\n",
    "            authors.append(author_number)\n",
    "            \n",
    "\n"
   ]
  },
  {
   "cell_type": "markdown",
   "metadata": {},
   "source": [
    "### Text Preprocessing"
   ]
  },
  {
   "cell_type": "code",
   "execution_count": 3,
   "metadata": {},
   "outputs": [],
   "source": [
    "def remove_non_ascii(words):\n",
    "    \"\"\"Remove non-ASCII characters\"\"\"\n",
    "    new_words = []\n",
    "    for word in words:\n",
    "        new_word = unicodedata.normalize('NFKD', word).encode('ascii', 'ignore').decode('utf-8', 'ignore')\n",
    "        new_words.append(new_word)\n",
    "    return new_words\n",
    "\n",
    "def to_lowercase(words):\n",
    "    \"\"\"Convert all characters to lowercase\"\"\"\n",
    "    new_words = []\n",
    "    for word in words:\n",
    "        new_word = word.lower()\n",
    "        new_words.append(new_word)\n",
    "    return new_words\n",
    "\n",
    "def remove_punctuation(words):\n",
    "    \"\"\"Remove punctuation from list of tokenized words\"\"\"\n",
    "    new_words = []\n",
    "    for word in words:\n",
    "        new_word = re.sub(r'[^\\w\\s]', '', word)\n",
    "        if new_word != '':\n",
    "            new_words.append(new_word)\n",
    "    return new_words\n",
    "\n",
    "def remove_newline(words):\n",
    "    \"\"\"remove \\n \"\"\"\n",
    "    new_words = []\n",
    "    for word in words:\n",
    "        new_words.append(word.replace(\"\\n\",\" \"))\n",
    "    return new_words\n",
    "\n",
    "\n",
    "def remove_numbers(words):\n",
    "    \"\"\"Remove numbers\"\"\"\n",
    "    new_words = []\n",
    "    remove_digits = str.maketrans('', '', digits) \n",
    "    for word in words:\n",
    "        new_words.append(word.translate(remove_digits))\n",
    "    return new_words\n",
    "\n",
    "def remove_special_chars(words):\n",
    "    \"\"\"Remove special characters\"\"\"\n",
    "    new_words = []\n",
    "    pattern = r'[\\%&#@*$\"()-]'\n",
    "    for word in words:\n",
    "        new_words.append(re.sub(pattern, ' ', word))\n",
    "    return new_words\n",
    "\n",
    "def remove_extra_whitespaces(words):\n",
    "    \"\"\"Remove extra whitespaces\"\"\"\n",
    "    new_words = []\n",
    "    for word in words:\n",
    "        new_words.append(re.sub(' +', ' ', word))\n",
    "    return new_words\n",
    "\n",
    "\n",
    "def normalize(words):\n",
    "    words = remove_non_ascii(words)\n",
    "    words = to_lowercase(words)\n",
    "    words = remove_numbers(words)\n",
    "    words = remove_newline(words)\n",
    "    words = remove_special_chars(words)\n",
    "    words = remove_extra_whitespaces(words)\n",
    "    return words\n",
    "\n"
   ]
  },
  {
   "cell_type": "code",
   "execution_count": 64,
   "metadata": {},
   "outputs": [],
   "source": [
    "#use normalize function we built to clean text\n",
    "articles = normalize(articles)\n",
    "#articles"
   ]
  },
  {
   "cell_type": "code",
   "execution_count": 5,
   "metadata": {},
   "outputs": [
    {
     "data": {
      "text/html": [
       "<div>\n",
       "<style scoped>\n",
       "    .dataframe tbody tr th:only-of-type {\n",
       "        vertical-align: middle;\n",
       "    }\n",
       "\n",
       "    .dataframe tbody tr th {\n",
       "        vertical-align: top;\n",
       "    }\n",
       "\n",
       "    .dataframe thead th {\n",
       "        text-align: right;\n",
       "    }\n",
       "</style>\n",
       "<table border=\"1\" class=\"dataframe\">\n",
       "  <thead>\n",
       "    <tr style=\"text-align: right;\">\n",
       "      <th></th>\n",
       "      <th>article</th>\n",
       "      <th>author number</th>\n",
       "    </tr>\n",
       "  </thead>\n",
       "  <tbody>\n",
       "    <tr>\n",
       "      <td>0</td>\n",
       "      <td>the internet may be overflowing with new techn...</td>\n",
       "      <td>0</td>\n",
       "    </tr>\n",
       "    <tr>\n",
       "      <td>1</td>\n",
       "      <td>the u.s. postal service announced wednesday a ...</td>\n",
       "      <td>0</td>\n",
       "    </tr>\n",
       "    <tr>\n",
       "      <td>2</td>\n",
       "      <td>elementary school students with access to the ...</td>\n",
       "      <td>0</td>\n",
       "    </tr>\n",
       "    <tr>\n",
       "      <td>3</td>\n",
       "      <td>an influential internet organisation has backe...</td>\n",
       "      <td>0</td>\n",
       "    </tr>\n",
       "    <tr>\n",
       "      <td>4</td>\n",
       "      <td>an influential internet organisation has backe...</td>\n",
       "      <td>0</td>\n",
       "    </tr>\n",
       "  </tbody>\n",
       "</table>\n",
       "</div>"
      ],
      "text/plain": [
       "                                             article author number\n",
       "0  the internet may be overflowing with new techn...             0\n",
       "1  the u.s. postal service announced wednesday a ...             0\n",
       "2  elementary school students with access to the ...             0\n",
       "3  an influential internet organisation has backe...             0\n",
       "4  an influential internet organisation has backe...             0"
      ]
     },
     "execution_count": 5,
     "metadata": {},
     "output_type": "execute_result"
    }
   ],
   "source": [
    "#create dataframe to test enumeration\n",
    "df = pd.DataFrame([articles,authors])\n",
    "df = df.transpose()\n",
    "df.columns = ['article', 'author number']\n",
    "df.head(5)"
   ]
  },
  {
   "cell_type": "markdown",
   "metadata": {},
   "source": [
    "Train and test sets from the original dataset were merged so we can split them in a better way.\n",
    "(original set had a 50-50 split)"
   ]
  },
  {
   "cell_type": "code",
   "execution_count": 6,
   "metadata": {},
   "outputs": [],
   "source": [
    "#split data in 80-20 train-test\n",
    "X_train, X_test, y_train, y_test = train_test_split(articles, authors, test_size = 0.2 , stratify = authors)"
   ]
  },
  {
   "cell_type": "markdown",
   "metadata": {},
   "source": [
    "Testing different sizes of word and char n-grams using linear SVM."
   ]
  },
  {
   "cell_type": "code",
   "execution_count": 8,
   "metadata": {
    "scrolled": false
   },
   "outputs": [],
   "source": [
    "#commented because it takes a lot of time to run. Results were saved in table below. \n",
    "#Uncomment to run(different rand seed might result in slighlty different results than those below)\n",
    "\n",
    "\n",
    "# #test for different char n-grams:\n",
    "# char_results = []\n",
    "# char_feature = []\n",
    "\n",
    "# for i in range(1,6):\n",
    "#     char_vector = CountVectorizer(ngram_range=(i,i), analyzer = 'char')\n",
    "#     tfidf_char_vector = TfidfVectorizer(ngram_range=(i,i), analyzer = 'char')\n",
    "    \n",
    "#     #simple char vectorizer\n",
    "#     X_train_ngram = char_vector.fit_transform(X_train)\n",
    "    \n",
    "#     # char vectorizer with tfidf\n",
    "#     X_train_tfidf = tfidf_char_vector.fit_transform(X_train)\n",
    "    \n",
    "#     clf= LinearSVC()\n",
    "    \n",
    "#     #cross validation(CV-3) for simple n-gram\n",
    "#     cv_scores = cross_val_score(clf, X_train_ngram, y_train, cv=3, n_jobs=-1)\n",
    "#     cv_mean_score = np.mean(cv_scores)\n",
    "#     char_feature.append('{}{}'.format(i, '-gram'))\n",
    "#     char_results.append(cv_mean_score)\n",
    "    \n",
    "\n",
    "\n",
    "#     #cross validation(CV-3) for tfidf n-gram\n",
    "#     cv_scores = cross_val_score(clf, X_train_tfidf, y_train, cv=3, n_jobs=-1)\n",
    "#     cv_mean_score = np.mean(cv_scores)\n",
    "#     char_feature.append('{} {}{}'.format('tfidf', i, '-gram'))\n",
    "#     char_results.append(cv_mean_score)\n",
    "    \n",
    "# d = {'feature': char_feature, 'cv-3 mean accuracy': char_results}\n",
    "# char_ngram_results_df = pd.DataFrame(data = d)\n",
    "# char_ngram_results_df "
   ]
  },
  {
   "cell_type": "markdown",
   "metadata": {},
   "source": [
    "### Character n-gram results\n",
    "\n",
    "We commented the code for cross validation because it takes a long time to run. The results can be seen in the table below. You can change i range to a smaller number( 1,3 for example) to test the code.\n",
    "\n",
    "|feature\t     |cv-3 mean accuracy|\n",
    "| :---           |             ---: |\n",
    "|1-gram\t         |0.125755          |\n",
    "|tfidf 1-gram\t |0.306458          |\n",
    "|2-gram\t         |0.711443\n",
    "|tfidf 2-gram\t |0.744349|\n",
    "|3-gram          |\t 0.821178|\n",
    "|tfidf 3-gram    |\t0.828481|\n",
    "|4-gram\t         |0.842583|\n",
    "|tfidf 4-gram    |\t0.829497|\n",
    "|5-gram\t         |0.841759|\n",
    "|tfidf 5-gram\t |0.831652|\n"
   ]
  },
  {
   "cell_type": "code",
   "execution_count": 9,
   "metadata": {},
   "outputs": [],
   "source": [
    "# #test for different word n-grams:\n",
    "# word_results = []\n",
    "# word_feature = []\n",
    "\n",
    "# for i in range(1,4):\n",
    "#     word_vector = CountVectorizer(ngram_range=(i,i), analyzer = 'word')\n",
    "#     tfidf_word_vector = TfidfVectorizer(ngram_range=(i,i), analyzer = 'word')\n",
    "    \n",
    "#     #simple word vectorizer\n",
    "#     X_train_ngram = word_vector.fit_transform(X_train)\n",
    "\n",
    "#     # word vectorizer with tfidf\n",
    "#     X_train_tfidf = tfidf_word_vector.fit_transform(X_train)\n",
    "\n",
    "    \n",
    "#     clf= LinearSVC()\n",
    "    \n",
    "#     #cross validation(CV-3) for simple n-gram\n",
    "#     cv_scores = cross_val_score(clf, X_train_ngram, y_train, cv=3, n_jobs=-1)\n",
    "#     cv_mean_score = np.mean(cv_scores)\n",
    "#     word_feature.append('{}{}'.format(i, '-gram'))\n",
    "#     word_results.append(cv_mean_score)\n",
    "    \n",
    "\n",
    "\n",
    "#     #cross validation(CV-3) for tfidf n-gram\n",
    "#     cv_scores = cross_val_score(clf, X_train_tfidf, y_train, cv=3, n_jobs=-1)\n",
    "#     cv_mean_score = np.mean(cv_scores)\n",
    "#     word_feature.append('{} {}{}'.format('tfidf', i, '-gram'))\n",
    "#     word_results.append(cv_mean_score)\n",
    "    \n",
    "# f = {'feature': word_feature, 'cv3 mean accuracy': word_results}\n",
    "# word_ngram_results_df = pd.DataFrame(data = f)\n",
    "# word_ngram_results_df "
   ]
  },
  {
   "cell_type": "markdown",
   "metadata": {},
   "source": [
    "### Word n-gram results\n",
    "\n",
    "\n",
    "\n",
    "|feature\t|cv3 mean accuracy|\n",
    "|:--- | ---:|\n",
    "|1-gram\t|0.834359|\n",
    "|tfidf 1-gram|\t0.816828|\n",
    "|2-gram|\t0.841387|\n",
    "|tfidf 2-gram\t|0.840266|\n",
    "|3-gram\t|0.811073|\n",
    "|tfidf 3-gram\t|0.822934|"
   ]
  },
  {
   "cell_type": "markdown",
   "metadata": {},
   "source": [
    "### Testing punctuation removal on character 4-grams"
   ]
  },
  {
   "cell_type": "code",
   "execution_count": 9,
   "metadata": {},
   "outputs": [],
   "source": [
    "char_vector = CountVectorizer(ngram_range=(4,4), analyzer = 'char')\n",
    "tfidf_char_vector = TfidfVectorizer(ngram_range=(4,4), analyzer = 'char')\n",
    "\n",
    "#remove punctuation\n",
    "\n",
    "X_train_nopunc = remove_punctuation(X_train)\n",
    "\n",
    "#simple char vectorizer\n",
    "X_train_ngram = char_vector.fit_transform(X_train_nopunc)\n",
    "\n",
    "#char vectorizer with tfidf\n",
    "X_train_tfidf = tfidf_char_vector.fit_transform(X_train_nopunc)\n",
    "\n",
    "clf= LinearSVC()\n",
    "\n",
    "#cross validation(CV-3) for simple n-gram\n",
    "cv_scores = cross_val_score(clf, X_train_ngram, y_train, cv=3, n_jobs=-1)\n",
    "cv_mean_score_ngram = np.mean(cv_scores)\n",
    "\n",
    "\n",
    "#cross validation(CV-3 for tfidf n-gram\n",
    "cv_scores = cross_val_score(clf, X_train_tfidf, y_train, cv=3, n_jobs=-1)\n",
    "cv_mean_score_tfidf = np.mean(cv_scores)\n"
   ]
  },
  {
   "cell_type": "code",
   "execution_count": 10,
   "metadata": {},
   "outputs": [
    {
     "name": "stdout",
     "output_type": "stream",
     "text": [
      "char 4gram mean score without punctuation: 0.8260683760683761\n"
     ]
    }
   ],
   "source": [
    "print('char 4gram mean score without punctuation:',cv_mean_score_ngram)"
   ]
  },
  {
   "cell_type": "code",
   "execution_count": 11,
   "metadata": {},
   "outputs": [
    {
     "name": "stdout",
     "output_type": "stream",
     "text": [
      "char tfidf-4gram mean score without punctuation: 0.8194776828110162\n"
     ]
    }
   ],
   "source": [
    "print('char tfidf-4gram mean score without punctuation:',cv_mean_score_tfidf)"
   ]
  },
  {
   "cell_type": "markdown",
   "metadata": {},
   "source": [
    "### Combining char 4-gram and and word 2-gram"
   ]
  },
  {
   "cell_type": "code",
   "execution_count": 13,
   "metadata": {},
   "outputs": [
    {
     "name": "stdout",
     "output_type": "stream",
     "text": [
      "char + word ngrams accuracy: 0.8364957264957265\n"
     ]
    }
   ],
   "source": [
    "word_vector = CountVectorizer(ngram_range=(2,2), analyzer = 'word')\n",
    "char_vector = CountVectorizer(ngram_range=(4,4), analyzer = 'char')\n",
    "\n",
    "#feature union combines 2 vectorizers results in 1 \n",
    "vectorizer  = FeatureUnion([('char', char_vector),\n",
    "                            ('word', word_vector)])\n",
    "\n",
    "X_train_tf = vectorizer.fit_transform(X_train)\n",
    "\n",
    "clf = LinearSVC()\n",
    "cv_scores = cross_val_score(clf, X_train_tf, y_train, cv=3, n_jobs=-1)\n",
    "cv_mean_score_ngram = np.mean(cv_scores)\n",
    "print('char + word ngrams accuracy:', cv_mean_score_ngram)"
   ]
  },
  {
   "cell_type": "markdown",
   "metadata": {},
   "source": [
    "Combining both word and char n-grams did not improve our model. We will use only character 4-grams and try to find the best classification algorithm."
   ]
  },
  {
   "cell_type": "markdown",
   "metadata": {},
   "source": [
    "### Rebuilding vocabulary and testing different algorithms"
   ]
  },
  {
   "cell_type": "code",
   "execution_count": 59,
   "metadata": {},
   "outputs": [],
   "source": [
    "char_vector = CountVectorizer(ngram_range=(4,4), analyzer = 'char', max_features = None)\n",
    "X_train_tf = char_vector.fit_transform(X_train)\n",
    "X_test_tf = char_vector.transform(X_test)\n"
   ]
  },
  {
   "cell_type": "code",
   "execution_count": 60,
   "metadata": {},
   "outputs": [
    {
     "data": {
      "text/plain": [
       "64063"
      ]
     },
     "execution_count": 60,
     "metadata": {},
     "output_type": "execute_result"
    }
   ],
   "source": [
    "len(char_vector.vocabulary_)"
   ]
  },
  {
   "cell_type": "markdown",
   "metadata": {},
   "source": [
    "### Multinomial Naive Bayes"
   ]
  },
  {
   "cell_type": "code",
   "execution_count": 14,
   "metadata": {},
   "outputs": [
    {
     "name": "stdout",
     "output_type": "stream",
     "text": [
      "CV-3 Accuracy [0.77037037 0.78148148 0.77461538]\n",
      "Mean CV Accuracy: 0.7754890788224121\n",
      "Test Accuracy: 0.815\n"
     ]
    }
   ],
   "source": [
    "clf_mnb = MultinomialNB()\n",
    "mnb_cv_scores = cross_val_score(clf_mnb, X_train_tf, y_train, cv=3, n_jobs=-1)\n",
    "mnb_cv_mean_score = np.mean(mnb_cv_scores)\n",
    "print('CV-3 Accuracy', mnb_cv_scores)\n",
    "print('Mean CV Accuracy:', mnb_cv_mean_score)\n",
    "clf_mnb.fit(X_train_tf, y_train)\n",
    "mnb_test_score = clf_mnb.score(X_test_tf, y_test)\n",
    "print('Test Accuracy:', mnb_test_score)"
   ]
  },
  {
   "cell_type": "markdown",
   "metadata": {},
   "source": [
    "### Logistic Regression"
   ]
  },
  {
   "cell_type": "code",
   "execution_count": 15,
   "metadata": {},
   "outputs": [
    {
     "name": "stdout",
     "output_type": "stream",
     "text": [
      "CV-3 Accuracy [0.82592593 0.84666667 0.83230769]\n",
      "Mean CV Accuracy: 0.8349667616334283\n",
      "Test Accuracy: 0.876\n"
     ]
    },
    {
     "name": "stderr",
     "output_type": "stream",
     "text": [
      "C:\\Users\\chris\\Anaconda3\\lib\\site-packages\\sklearn\\linear_model\\logistic.py:947: ConvergenceWarning: lbfgs failed to converge. Increase the number of iterations.\n",
      "  \"of iterations.\", ConvergenceWarning)\n"
     ]
    }
   ],
   "source": [
    "clf_lr = LogisticRegression(solver = 'lbfgs', multi_class = 'auto')\n",
    "lr_cv_scores = cross_val_score(clf_lr, X_train_tf, y_train, cv=3, n_jobs=-1)\n",
    "lr_cv_mean_score = np.mean(lr_cv_scores)\n",
    "print('CV-3 Accuracy', lr_cv_scores)\n",
    "print('Mean CV Accuracy:', lr_cv_mean_score)\n",
    "clf_lr.fit(X_train_tf, y_train)\n",
    "lr_test_score = clf_lr.score(X_test_tf, y_test)\n",
    "print('Test Accuracy:', lr_test_score)"
   ]
  },
  {
   "cell_type": "markdown",
   "metadata": {},
   "source": [
    "### Random Forest"
   ]
  },
  {
   "cell_type": "code",
   "execution_count": 16,
   "metadata": {},
   "outputs": [
    {
     "name": "stdout",
     "output_type": "stream",
     "text": [
      "CV-3 Accuracy [0.73703704 0.76962963 0.75692308]\n",
      "Mean CV Accuracy: 0.7545299145299146\n",
      "Test Accuracy: 0.815\n"
     ]
    }
   ],
   "source": [
    "clf_rf = RandomForestClassifier(n_estimators = 100)\n",
    "rf_cv_scores = cross_val_score(clf_rf, X_train_tf, y_train, cv=3, n_jobs=-1)\n",
    "rf_cv_mean_score = np.mean(rf_cv_scores)\n",
    "print('CV-3 Accuracy', rf_cv_scores)\n",
    "print('Mean CV Accuracy:', rf_cv_mean_score)\n",
    "clf_rf.fit(X_train_tf, y_train)\n",
    "rf_test_score = clf_rf.score(X_test_tf, y_test)\n",
    "print('Test Accuracy:', rf_test_score)"
   ]
  },
  {
   "cell_type": "markdown",
   "metadata": {},
   "source": [
    "### Linear SVM"
   ]
  },
  {
   "cell_type": "code",
   "execution_count": 17,
   "metadata": {
    "scrolled": true
   },
   "outputs": [
    {
     "name": "stdout",
     "output_type": "stream",
     "text": [
      "CV-3 Accuracy [0.82444444 0.84444444 0.83923077]\n",
      "Mean CV Accuracy: 0.836039886039886\n",
      "Test Accuracy: 0.874\n"
     ]
    },
    {
     "name": "stderr",
     "output_type": "stream",
     "text": [
      "C:\\Users\\chris\\Anaconda3\\lib\\site-packages\\sklearn\\svm\\base.py:929: ConvergenceWarning: Liblinear failed to converge, increase the number of iterations.\n",
      "  \"the number of iterations.\", ConvergenceWarning)\n"
     ]
    }
   ],
   "source": [
    "clf_linearSVC = LinearSVC()\n",
    "linearSVC_cv_scores = cross_val_score(clf_linearSVC, X_train_tf, y_train, cv=3, n_jobs=-1)\n",
    "linearSVC_cv_mean_score = np.mean(linearSVC_cv_scores)\n",
    "print('CV-3 Accuracy', linearSVC_cv_scores)\n",
    "print('Mean CV Accuracy:', linearSVC_cv_mean_score)\n",
    "clf_linearSVC.fit(X_train_tf, y_train)\n",
    "linearSVC_test_score = clf_linearSVC.score(X_test_tf, y_test)\n",
    "print('Test Accuracy:', linearSVC_test_score)"
   ]
  },
  {
   "cell_type": "markdown",
   "metadata": {},
   "source": [
    "### SVM ( RBF Kernel)\n",
    "commented due to very low accuracy and and very high training time"
   ]
  },
  {
   "cell_type": "code",
   "execution_count": 18,
   "metadata": {},
   "outputs": [
    {
     "name": "stdout",
     "output_type": "stream",
     "text": [
      "CV-3 Accuracy [0.58814815 0.61407407 0.61      ]\n",
      "Mean CV Accuracy: 0.6040740740740741\n",
      "Test Accuracy: 0.702\n"
     ]
    }
   ],
   "source": [
    "clf_SVC = SVC(gamma = 'auto', kernel = 'rbf')\n",
    "SVC_cv_scores = cross_val_score(clf_SVC, X_train_tf, y_train, cv=3, n_jobs=-1)\n",
    "SVC_cv_mean_score = np.mean(SVC_cv_scores)\n",
    "print('CV-3 Accuracy', SVC_cv_scores)\n",
    "print('Mean CV Accuracy:', SVC_cv_mean_score)\n",
    "clf_SVC.fit(X_train_tf, y_train)\n",
    "SVC_test_score = clf_SVC.score(X_test_tf, y_test)\n",
    "print('Test Accuracy:', SVC_test_score)"
   ]
  },
  {
   "cell_type": "markdown",
   "metadata": {},
   "source": [
    "### Knn"
   ]
  },
  {
   "cell_type": "code",
   "execution_count": 19,
   "metadata": {},
   "outputs": [
    {
     "name": "stdout",
     "output_type": "stream",
     "text": [
      "CV-3 Accuracy [0.5562963  0.57185185 0.56846154]\n",
      "Mean CV Accuracy: 0.5655365622032288\n",
      "Test Accuracy: 0.631\n"
     ]
    }
   ],
   "source": [
    "clf_knn = KNeighborsClassifier(n_neighbors=3)\n",
    "knn_cv_scores = cross_val_score(clf_knn, X_train_tf, y_train, cv=3, n_jobs=-1)\n",
    "knn_cv_mean_score = np.mean(knn_cv_scores)\n",
    "print('CV-3 Accuracy', knn_cv_scores)\n",
    "print('Mean CV Accuracy:', knn_cv_mean_score)\n",
    "clf_knn.fit(X_train_tf, y_train)\n",
    "knn_test_score = clf_knn.score(X_test_tf, y_test)\n",
    "print('Test Accuracy:', knn_test_score)"
   ]
  },
  {
   "cell_type": "markdown",
   "metadata": {},
   "source": [
    "### Multilayer Perceptron\n",
    "\n",
    "2 hidden layers with 50 neurons each"
   ]
  },
  {
   "cell_type": "code",
   "execution_count": 20,
   "metadata": {},
   "outputs": [
    {
     "name": "stdout",
     "output_type": "stream",
     "text": [
      "CV-3 Accuracy [0.77851852 0.80962963 0.8       ]\n",
      "Mean CV Accuracy: 0.7960493827160494\n",
      "Test Accuracy: 0.854\n"
     ]
    }
   ],
   "source": [
    "mlp = MLPClassifier(solver='adam', activation = 'relu', hidden_layer_sizes=(50,50))\n",
    "mlp.fit(X_train_tf, y_train)\n",
    "mlp_cv_scores = cross_val_score(mlp , X_train_tf, y_train, cv=3, n_jobs=-1)\n",
    "mlp_cv_mean_score = np.mean(mlp_cv_scores)\n",
    "print('CV-3 Accuracy', mlp_cv_scores)\n",
    "print('Mean CV Accuracy:', mlp_cv_mean_score)\n",
    "mlp_test_score = mlp.score(X_test_tf, y_test)\n",
    "print('Test Accuracy:', mlp_test_score)"
   ]
  },
  {
   "cell_type": "markdown",
   "metadata": {},
   "source": [
    "## Results"
   ]
  },
  {
   "cell_type": "code",
   "execution_count": 21,
   "metadata": {},
   "outputs": [
    {
     "data": {
      "text/html": [
       "<div>\n",
       "<style scoped>\n",
       "    .dataframe tbody tr th:only-of-type {\n",
       "        vertical-align: middle;\n",
       "    }\n",
       "\n",
       "    .dataframe tbody tr th {\n",
       "        vertical-align: top;\n",
       "    }\n",
       "\n",
       "    .dataframe thead th {\n",
       "        text-align: right;\n",
       "    }\n",
       "</style>\n",
       "<table border=\"1\" class=\"dataframe\">\n",
       "  <thead>\n",
       "    <tr style=\"text-align: right;\">\n",
       "      <th></th>\n",
       "      <th>Algorithm</th>\n",
       "      <th>CV accuracy</th>\n",
       "      <th>Test set accuracy</th>\n",
       "    </tr>\n",
       "  </thead>\n",
       "  <tbody>\n",
       "    <tr>\n",
       "      <td>0</td>\n",
       "      <td>Naive Bayes</td>\n",
       "      <td>0.775489</td>\n",
       "      <td>0.815</td>\n",
       "    </tr>\n",
       "    <tr>\n",
       "      <td>1</td>\n",
       "      <td>Logistic Regression</td>\n",
       "      <td>0.834967</td>\n",
       "      <td>0.876</td>\n",
       "    </tr>\n",
       "    <tr>\n",
       "      <td>2</td>\n",
       "      <td>Random Forest</td>\n",
       "      <td>0.754530</td>\n",
       "      <td>0.815</td>\n",
       "    </tr>\n",
       "    <tr>\n",
       "      <td>3</td>\n",
       "      <td>SVM(Linear)</td>\n",
       "      <td>0.836040</td>\n",
       "      <td>0.874</td>\n",
       "    </tr>\n",
       "    <tr>\n",
       "      <td>4</td>\n",
       "      <td>SVM(RBF)</td>\n",
       "      <td>0.604074</td>\n",
       "      <td>0.702</td>\n",
       "    </tr>\n",
       "    <tr>\n",
       "      <td>5</td>\n",
       "      <td>Knn</td>\n",
       "      <td>0.565537</td>\n",
       "      <td>0.631</td>\n",
       "    </tr>\n",
       "    <tr>\n",
       "      <td>6</td>\n",
       "      <td>MLP</td>\n",
       "      <td>0.796049</td>\n",
       "      <td>0.854</td>\n",
       "    </tr>\n",
       "  </tbody>\n",
       "</table>\n",
       "</div>"
      ],
      "text/plain": [
       "             Algorithm  CV accuracy  Test set accuracy\n",
       "0          Naive Bayes     0.775489              0.815\n",
       "1  Logistic Regression     0.834967              0.876\n",
       "2        Random Forest     0.754530              0.815\n",
       "3          SVM(Linear)     0.836040              0.874\n",
       "4             SVM(RBF)     0.604074              0.702\n",
       "5                  Knn     0.565537              0.631\n",
       "6                  MLP     0.796049              0.854"
      ]
     },
     "execution_count": 21,
     "metadata": {},
     "output_type": "execute_result"
    }
   ],
   "source": [
    "df_results = pd.DataFrame([['Naive Bayes',mnb_cv_mean_score,mnb_test_score],\n",
    "                           ['Logistic Regression',lr_cv_mean_score,lr_test_score],\n",
    "                           ['Random Forest',rf_cv_mean_score,rf_test_score],\n",
    "                           ['SVM(Linear)',linearSVC_cv_mean_score,linearSVC_test_score],\n",
    "                           ['SVM(RBF)',SVC_cv_mean_score,SVC_test_score],\n",
    "                           ['Knn',knn_cv_mean_score, knn_test_score],\n",
    "                           ['MLP',mlp_cv_mean_score, mlp_test_score]],\n",
    "                          columns = ['Algorithm', 'CV accuracy', 'Test set accuracy']\n",
    "                          )\n",
    "\n",
    "df_results"
   ]
  },
  {
   "cell_type": "markdown",
   "metadata": {},
   "source": [
    "## Optimizing SVM linear "
   ]
  },
  {
   "cell_type": "code",
   "execution_count": 55,
   "metadata": {},
   "outputs": [
    {
     "data": {
      "text/plain": [
       "GridSearchCV(cv=3, error_score='raise-deprecating',\n",
       "             estimator=LinearSVC(C=1.0, class_weight=None, dual=True,\n",
       "                                 fit_intercept=True, intercept_scaling=1,\n",
       "                                 loss='squared_hinge', max_iter=1000,\n",
       "                                 multi_class='ovr', penalty='l2',\n",
       "                                 random_state=None, tol=0.0001, verbose=0),\n",
       "             iid='warn', n_jobs=-1,\n",
       "             param_grid={'C': [0.0001, 0.001, 0.01, 0.1, 1, 10]},\n",
       "             pre_dispatch='2*n_jobs', refit=True, return_train_score=False,\n",
       "             scoring='accuracy', verbose=0)"
      ]
     },
     "execution_count": 55,
     "metadata": {},
     "output_type": "execute_result"
    }
   ],
   "source": [
    "liblinear = LinearSVC(max_iter = 1000)\n",
    "linear_param = {'C':[0.0001, 0.001, 0.01, 0.1, 1, 10]}\n",
    "linear_clf = GridSearchCV(liblinear, linear_param, cv=3, scoring='accuracy', n_jobs= -1)\n",
    "linear_clf.fit(X_train_tf, y_train)"
   ]
  },
  {
   "cell_type": "code",
   "execution_count": 56,
   "metadata": {},
   "outputs": [
    {
     "data": {
      "text/plain": [
       "{'C': 0.001}"
      ]
     },
     "execution_count": 56,
     "metadata": {},
     "output_type": "execute_result"
    }
   ],
   "source": [
    "linear_clf.best_params_"
   ]
  },
  {
   "cell_type": "code",
   "execution_count": 57,
   "metadata": {},
   "outputs": [
    {
     "data": {
      "text/plain": [
       "0.836375"
      ]
     },
     "execution_count": 57,
     "metadata": {},
     "output_type": "execute_result"
    }
   ],
   "source": [
    "linear_clf.cv_results_['mean_test_score'].mean()"
   ]
  },
  {
   "cell_type": "code",
   "execution_count": 58,
   "metadata": {},
   "outputs": [
    {
     "data": {
      "text/plain": [
       "0.878"
      ]
     },
     "execution_count": 58,
     "metadata": {},
     "output_type": "execute_result"
    }
   ],
   "source": [
    "linear_clf.best_estimator_.score(X_test_tf, y_test)"
   ]
  },
  {
   "cell_type": "code",
   "execution_count": 62,
   "metadata": {},
   "outputs": [
    {
     "data": {
      "text/plain": [
       "<matplotlib.axes._subplots.AxesSubplot at 0x19ea33144c8>"
      ]
     },
     "execution_count": 62,
     "metadata": {},
     "output_type": "execute_result"
    },
    {
     "data": {
      "image/png": "[encoded data removed]",
      "text/plain": [
       "<Figure size 2160x1512 with 2 Axes>"
      ]
     },
     "metadata": {
      "needs_background": "light"
     },
     "output_type": "display_data"
    }
   ],
   "source": [
    "#confusion matrix\n",
    "import seaborn as sn\n",
    "import pandas as pd\n",
    "import matplotlib.pyplot as plt\n",
    "cmatrix = confusion_matrix(y_true = y_test, y_pred = linear_clf.predict(X_test_tf)) \n",
    "df_cm = pd.DataFrame(cmatrix, index = [i for i in range(50)],\n",
    "                  columns = [i for i in range(50)])\n",
    "plt.figure(figsize = (30,21))\n",
    "sn.heatmap(df_cm, annot=True)"
   ]
  },
  {
   "cell_type": "markdown",
   "metadata": {},
   "source": [
    "### Linear SVM with different number of features(vocabulary size)"
   ]
  },
  {
   "cell_type": "code",
   "execution_count": 27,
   "metadata": {},
   "outputs": [
    {
     "data": {
      "text/html": [
       "<div>\n",
       "<style scoped>\n",
       "    .dataframe tbody tr th:only-of-type {\n",
       "        vertical-align: middle;\n",
       "    }\n",
       "\n",
       "    .dataframe tbody tr th {\n",
       "        vertical-align: top;\n",
       "    }\n",
       "\n",
       "    .dataframe thead th {\n",
       "        text-align: right;\n",
       "    }\n",
       "</style>\n",
       "<table border=\"1\" class=\"dataframe\">\n",
       "  <thead>\n",
       "    <tr style=\"text-align: right;\">\n",
       "      <th></th>\n",
       "      <th>number of features</th>\n",
       "      <th>cv3 mean accuracy</th>\n",
       "    </tr>\n",
       "  </thead>\n",
       "  <tbody>\n",
       "    <tr>\n",
       "      <th>0</th>\n",
       "      <td>5000</td>\n",
       "      <td>0.832213</td>\n",
       "    </tr>\n",
       "    <tr>\n",
       "      <th>1</th>\n",
       "      <td>10000</td>\n",
       "      <td>0.835071</td>\n",
       "    </tr>\n",
       "    <tr>\n",
       "      <th>2</th>\n",
       "      <td>15000</td>\n",
       "      <td>0.836790</td>\n",
       "    </tr>\n",
       "    <tr>\n",
       "      <th>3</th>\n",
       "      <td>20000</td>\n",
       "      <td>0.838053</td>\n",
       "    </tr>\n",
       "    <tr>\n",
       "      <th>4</th>\n",
       "      <td>25000</td>\n",
       "      <td>0.839307</td>\n",
       "    </tr>\n",
       "    <tr>\n",
       "      <th>5</th>\n",
       "      <td>30000</td>\n",
       "      <td>0.838547</td>\n",
       "    </tr>\n",
       "    <tr>\n",
       "      <th>6</th>\n",
       "      <td>35000</td>\n",
       "      <td>0.838300</td>\n",
       "    </tr>\n",
       "    <tr>\n",
       "      <th>7</th>\n",
       "      <td>40000</td>\n",
       "      <td>0.838557</td>\n",
       "    </tr>\n",
       "    <tr>\n",
       "      <th>8</th>\n",
       "      <td>45000</td>\n",
       "      <td>0.838803</td>\n",
       "    </tr>\n",
       "    <tr>\n",
       "      <th>9</th>\n",
       "      <td>50000</td>\n",
       "      <td>0.838803</td>\n",
       "    </tr>\n",
       "    <tr>\n",
       "      <th>10</th>\n",
       "      <td>55000</td>\n",
       "      <td>0.839050</td>\n",
       "    </tr>\n",
       "    <tr>\n",
       "      <th>11</th>\n",
       "      <td>60000</td>\n",
       "      <td>0.838803</td>\n",
       "    </tr>\n",
       "    <tr>\n",
       "      <th>12</th>\n",
       "      <td>65000</td>\n",
       "      <td>0.838803</td>\n",
       "    </tr>\n",
       "  </tbody>\n",
       "</table>\n",
       "</div>"
      ],
      "text/plain": [
       "    number of features  cv3 mean accuracy\n",
       "0                 5000           0.832213\n",
       "1                10000           0.835071\n",
       "2                15000           0.836790\n",
       "3                20000           0.838053\n",
       "4                25000           0.839307\n",
       "5                30000           0.838547\n",
       "6                35000           0.838300\n",
       "7                40000           0.838557\n",
       "8                45000           0.838803\n",
       "9                50000           0.838803\n",
       "10               55000           0.839050\n",
       "11               60000           0.838803\n",
       "12               65000           0.838803"
      ]
     },
     "execution_count": 27,
     "metadata": {},
     "output_type": "execute_result"
    }
   ],
   "source": [
    "number_of_features = []\n",
    "num_features_mean_score = []\n",
    "\n",
    "for features_num in range(5000, 70000, 5000):\n",
    "    char_vector = CountVectorizer(ngram_range=(4,4), analyzer = 'char', max_features = features_num)\n",
    "    X_train_tf = char_vector.fit_transform(X_train)\n",
    "    \n",
    "    clf= LinearSVC(C = 0.001)\n",
    "\n",
    "    #cross validation(CV-3) for simple n-gram\n",
    "    cv_scores = cross_val_score(clf, X_train_tf, y_train, cv=3, n_jobs=-1)\n",
    "    cv_mean_score = np.mean(cv_scores)\n",
    "    number_of_features.append(features_num)\n",
    "    num_features_mean_score.append(cv_mean_score)\n",
    "\n",
    "    \n",
    "g = {'number of features': number_of_features, 'cv3 mean accuracy': num_features_mean_score}\n",
    "num_features_results_df = pd.DataFrame(data = g)\n",
    "num_features_results_df"
   ]
  },
  {
   "cell_type": "code",
   "execution_count": 28,
   "metadata": {},
   "outputs": [
    {
     "data": {
      "text/plain": [
       "<matplotlib.axes._subplots.AxesSubplot at 0x1710220b8d0>"
      ]
     },
     "execution_count": 28,
     "metadata": {},
     "output_type": "execute_result"
    },
    {
     "data": {
      "image/png": "[encoded data removed]",
      "text/plain": [
       "<Figure size 432x288 with 1 Axes>"
      ]
     },
     "metadata": {
      "needs_background": "light"
     },
     "output_type": "display_data"
    }
   ],
   "source": [
    "%matplotlib inline\n",
    "num_features_results_df.plot(x = 'number of features', y = 'cv3 mean accuracy')"
   ]
  },
  {
   "cell_type": "markdown",
   "metadata": {},
   "source": [
    "### POS ngrams"
   ]
  },
  {
   "cell_type": "code",
   "execution_count": 32,
   "metadata": {},
   "outputs": [],
   "source": [
    "#rebuild vocabulary\n",
    "char_vector = CountVectorizer(ngram_range=(4,4), analyzer = 'char', max_features = None)\n",
    "X_train_tf = char_vector.fit_transform(X_train)\n",
    "X_test_tf = char_vector.transform(X_test)"
   ]
  },
  {
   "cell_type": "code",
   "execution_count": 33,
   "metadata": {},
   "outputs": [],
   "source": [
    "#create corpus to extract pos ngrams\n",
    "corpus = []\n",
    "for item in X_train:\n",
    "    corpus.append(item)\n"
   ]
  },
  {
   "cell_type": "code",
   "execution_count": 34,
   "metadata": {},
   "outputs": [],
   "source": [
    "#Tokenize strings to words and then find the pos_tags\n",
    "\n",
    "def pos_tags(text):\n",
    "    pos_tags = []\n",
    "    for txt in text:\n",
    "        #this solves an issue with blank strings\n",
    "        if txt:\n",
    "            words = word_tokenize(txt)\n",
    "            pos_tags.append(\" \".join(tag for (word,tag) in pos_tag(words) ))\n",
    "    \n",
    "    return pos_tags\n",
    "\n",
    "\n",
    "X_train_tags = pos_tags(remove_punctuation(X_train))\n",
    "            \n",
    "X_test_tags  = pos_tags(remove_punctuation(X_test))        "
   ]
  },
  {
   "cell_type": "code",
   "execution_count": 35,
   "metadata": {},
   "outputs": [],
   "source": [
    "# 3 word pos ngrams\n",
    "postag_vector = TfidfVectorizer(ngram_range=(3,3), analyzer = 'word')\n",
    "X_train_tag_tf = postag_vector.fit_transform(X_train_tags)\n",
    "X_test_tag_tf  = postag_vector.transform(X_test_tags)\n",
    "\n",
    "#char 4grams we used earlier\n",
    "char_vector = CountVectorizer(ngram_range=(4,4), analyzer = 'char', max_features = None)\n",
    "X_train_tf = char_vector.fit_transform(X_train)\n",
    "X_test_tf = char_vector.transform(X_test)\n",
    "\n",
    "#we cant use featureunion, we need to stack these 2 sparse matrices with hstack\n",
    "X_train_final = hstack((X_train_tag_tf, X_train_tf), format = 'csr')\n",
    "X_test_final  = hstack((X_test_tag_tf, X_test_tf), format = 'csr')\n",
    "\n",
    "\n"
   ]
  },
  {
   "cell_type": "code",
   "execution_count": 54,
   "metadata": {},
   "outputs": [
    {
     "name": "stdout",
     "output_type": "stream",
     "text": [
      "CV-3 Accuracy [0.82444444 0.84444444 0.83923077]\n",
      "Mean CV Accuracy: 0.836039886039886\n",
      "Test Accuracy: 0.874\n"
     ]
    },
    {
     "name": "stderr",
     "output_type": "stream",
     "text": [
      "C:\\Users\\chris\\Anaconda3\\lib\\site-packages\\sklearn\\svm\\base.py:929: ConvergenceWarning: Liblinear failed to converge, increase the number of iterations.\n",
      "  \"the number of iterations.\", ConvergenceWarning)\n"
     ]
    }
   ],
   "source": [
    "#linear SVC\n",
    "clf_linearSVC = LinearSVC()\n",
    "linearSVC_cv_scores = cross_val_score(clf_linearSVC, X_train_final, y_train, cv=3, n_jobs=-1)\n",
    "linearSVC_cv_mean_score = np.mean(linearSVC_cv_scores)\n",
    "print('CV-3 Accuracy', linearSVC_cv_scores)\n",
    "print('Mean CV Accuracy:', linearSVC_cv_mean_score)\n",
    "clf_linearSVC.fit(X_train_final, y_train)\n",
    "linearSVC_test_score = clf_linearSVC.score(X_test_final, y_test)\n",
    "print('Test Accuracy:', linearSVC_test_score)"
   ]
  },
  {
   "cell_type": "code",
   "execution_count": null,
   "metadata": {},
   "outputs": [],
   "source": []
  },
  {
   "cell_type": "markdown",
   "metadata": {},
   "source": [
    "### Word Embeddings"
   ]
  },
  {
   "cell_type": "markdown",
   "metadata": {},
   "source": [
    "### Word2Vec"
   ]
  },
  {
   "cell_type": "code",
   "execution_count": 136,
   "metadata": {},
   "outputs": [],
   "source": [
    "#tokenize corpus\n",
    "X_train_words = [word_tokenize(text) for text in remove_punctuation(X_train)]\n",
    "X_test_words = [word_tokenize(text) for text in remove_punctuation(X_test)]"
   ]
  },
  {
   "cell_type": "code",
   "execution_count": 208,
   "metadata": {},
   "outputs": [],
   "source": [
    "# word2vec model\n",
    "w2v_model = Word2Vec(X_train_words, size = 1000, window = 5 ,sg = 1, workers = 10)"
   ]
  },
  {
   "cell_type": "code",
   "execution_count": 209,
   "metadata": {},
   "outputs": [],
   "source": [
    "\n",
    "def document_vectorizer(corpus, model, num_features):\n",
    "    vocabulary = set(model.wv.index2word)\n",
    "    def average_word_vectors(words, model, vocabulary, num_features):\n",
    "        feature_vector = np.zeros((num_features,), dtype=\"float64\")\n",
    "        nwords = 0\n",
    "        for word in words:\n",
    "            if word in vocabulary:\n",
    "                nwords = nwords + 1.\n",
    "                feature_vector = np.add(feature_vector, model.wv[word])\n",
    "        if nwords:\n",
    "            feature_vector = np.divide(feature_vector, nwords)\n",
    "        return feature_vector\n",
    "    features = [average_word_vectors(tokenized_sentence, model, vocabulary,\n",
    "                                     num_features) for tokenized_sentence in corpus]\n",
    "    return np.array(features)\n",
    "\n",
    "#hard to converge, low accuracy\n",
    "# def minmax_document_vectorizer(corpus, model , num_features):\n",
    "#     vocabulary = set(model.wv.index2word)\n",
    "#     def minmax_word_vectors(words,model, vocabulary, num_features):\n",
    "#         feature_vector = np.zeros((2*num_features,), dtype=\"float64\")\n",
    "#         min_vector = np.zeros((num_features,), dtype=\"float64\")\n",
    "#         max_vector = np.zeros((num_features,), dtype=\"float64\")\n",
    "#         for word in words:\n",
    "#             if word in vocabulary:\n",
    "#                 max_vector = np.maximum(max_vector, model.wv[word])\n",
    "#                 min_vector = np.minimum(min_vector, model.wv[word])\n",
    "#         feature_vector  = np.concatenate((min_vector, max_vector),axis=None)\n",
    "#         return feature_vector\n",
    "    \n",
    "#     features = [minmax_word_vectors(tokenized_sentence, model, vocabulary,\n",
    "#                                      num_features) for tokenized_sentence in corpus]\n",
    "#     return features\n",
    "            "
   ]
  },
  {
   "cell_type": "code",
   "execution_count": 211,
   "metadata": {},
   "outputs": [],
   "source": [
    "avg_wv_train_features = document_vectorizer(corpus = X_train_words, model = w2v_model , num_features = 1000)\n",
    "avg_wv_test_features  = document_vectorizer(corpus = X_test_words, model = w2v_model , num_features = 1000)"
   ]
  },
  {
   "cell_type": "code",
   "execution_count": 212,
   "metadata": {},
   "outputs": [
    {
     "data": {
      "text/plain": [
       "0.72"
      ]
     },
     "execution_count": 212,
     "metadata": {},
     "output_type": "execute_result"
    }
   ],
   "source": [
    "clf = LinearSVC()\n",
    "clf.fit(avg_wv_train_features, y_train)\n",
    "clf.score(avg_wv_test_features, y_test)"
   ]
  },
  {
   "cell_type": "code",
   "execution_count": 204,
   "metadata": {},
   "outputs": [],
   "source": [
    "#X_train_final = hstack((avg_wv_train_features, X_train_tf), format = 'csr')\n",
    "#X_test_final  = hstack((avg_wv_test_features, X_test_tf), format = 'csr')"
   ]
  },
  {
   "cell_type": "code",
   "execution_count": 31,
   "metadata": {},
   "outputs": [],
   "source": [
    "#clf = LinearSVC()\n",
    "#clf.fit(X_train_final, y_train)\n",
    "#clf.score(X_test_final, y_test)"
   ]
  },
  {
   "cell_type": "markdown",
   "metadata": {},
   "source": [
    "### fastext"
   ]
  },
  {
   "cell_type": "code",
   "execution_count": 288,
   "metadata": {},
   "outputs": [],
   "source": [
    "ft_num_features = 1000\n",
    "# sg decides whether to use the skip-gram model (1) or CBOW (0)\n",
    "ft_model = FastText(X_train_words, size=ft_num_features, window=5,\n",
    "                    min_count=1, sg=1, iter=5, workers=10)"
   ]
  },
  {
   "cell_type": "code",
   "execution_count": 289,
   "metadata": {},
   "outputs": [],
   "source": [
    "avg_ft_train_features = document_vectorizer(corpus = X_train_words, model = ft_model , num_features = 1000)\n",
    "avg_ft_test_features  = document_vectorizer(corpus = X_test_words, model = ft_model , num_features = 1000)"
   ]
  },
  {
   "cell_type": "code",
   "execution_count": 290,
   "metadata": {},
   "outputs": [
    {
     "data": {
      "text/plain": [
       "0.728"
      ]
     },
     "execution_count": 290,
     "metadata": {},
     "output_type": "execute_result"
    }
   ],
   "source": [
    "clf = LinearSVC()\n",
    "clf.fit(avg_ft_train_features, y_train)\n",
    "clf.score(avg_ft_test_features, y_test)"
   ]
  },
  {
   "cell_type": "code",
   "execution_count": null,
   "metadata": {},
   "outputs": [],
   "source": []
  }
 ],
 "metadata": {
  "kernelspec": {
   "display_name": "Python 3",
   "language": "python",
   "name": "python3"
  },
  "language_info": {
   "codemirror_mode": {
    "name": "ipython",
    "version": 3
   },
   "file_extension": ".py",
   "mimetype": "text/x-python",
   "name": "python",
   "nbconvert_exporter": "python",
   "pygments_lexer": "ipython3",
   "version": "3.7.4"
  }
 },
 "nbformat": 4,
 "nbformat_minor": 2
}
